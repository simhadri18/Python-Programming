{
 "cells": [
  {
   "cell_type": "markdown",
   "id": "7b92ee19",
   "metadata": {},
   "source": [
    "# Literals "
   ]
  },
  {
   "cell_type": "markdown",
   "id": "9e686d36",
   "metadata": {},
   "source": [
    "literal represent fixed value\n",
    "they can be number,strings,character\n"
   ]
  },
  {
   "cell_type": "markdown",
   "id": "b7ddc2c4",
   "metadata": {},
   "source": [
    "# Numeric literal"
   ]
  },
  {
   "cell_type": "code",
   "execution_count": 1,
   "id": "2ce52a20",
   "metadata": {},
   "outputs": [],
   "source": [
    "#inter , float and complex\n",
    "a=2\n",
    "b=2.2\n",
    "c=complex(2,3)\n"
   ]
  },
  {
   "cell_type": "code",
   "execution_count": 2,
   "id": "d4ad4efd",
   "metadata": {},
   "outputs": [
    {
     "name": "stdout",
     "output_type": "stream",
     "text": [
      "2\n"
     ]
    }
   ],
   "source": [
    "#Binary numbers\n",
    "a=0b0010\n",
    "print(a)"
   ]
  },
  {
   "cell_type": "code",
   "execution_count": 3,
   "id": "a64775fa",
   "metadata": {},
   "outputs": [
    {
     "name": "stdout",
     "output_type": "stream",
     "text": [
      "10\n"
     ]
    }
   ],
   "source": [
    "#decimal number\n",
    "a=10\n",
    "print(a)\n"
   ]
  },
  {
   "cell_type": "code",
   "execution_count": 4,
   "id": "00f48c09",
   "metadata": {},
   "outputs": [
    {
     "name": "stdout",
     "output_type": "stream",
     "text": [
      "7979\n"
     ]
    }
   ],
   "source": [
    "#octal number\n",
    "a=0o17453\n",
    "print(a)"
   ]
  },
  {
   "cell_type": "code",
   "execution_count": 5,
   "id": "b24610a7",
   "metadata": {},
   "outputs": [
    {
     "name": "stdout",
     "output_type": "stream",
     "text": [
      "44035\n"
     ]
    }
   ],
   "source": [
    "a=0xac03\n",
    "print(a)"
   ]
  },
  {
   "cell_type": "code",
   "execution_count": 6,
   "id": "fa08fd30",
   "metadata": {},
   "outputs": [
    {
     "name": "stdout",
     "output_type": "stream",
     "text": [
      "0xd\n",
      "0o15\n",
      "13\n"
     ]
    }
   ],
   "source": [
    "#conversion\n",
    "b=0b1101\n",
    "print(hex(b))\n",
    "print(oct(b))\n",
    "print(b)"
   ]
  },
  {
   "cell_type": "code",
   "execution_count": 7,
   "id": "da3071c5",
   "metadata": {},
   "outputs": [
    {
     "name": "stdout",
     "output_type": "stream",
     "text": [
      "0x13\n",
      "0o23\n",
      "0b10011\n"
     ]
    }
   ],
   "source": [
    "d=19\n",
    "print(hex(d))\n",
    "print(oct(d))\n",
    "print(bin(d))\n"
   ]
  },
  {
   "cell_type": "code",
   "execution_count": 8,
   "id": "d1d21f13",
   "metadata": {},
   "outputs": [
    {
     "name": "stdout",
     "output_type": "stream",
     "text": [
      "0x793a\n",
      "0o74472\n",
      "31034\n"
     ]
    }
   ],
   "source": [
    "o=0o74472\n",
    "print(hex(o))\n",
    "print(oct(o))\n",
    "print(o)\n"
   ]
  },
  {
   "cell_type": "code",
   "execution_count": 9,
   "id": "c3efd9a1",
   "metadata": {},
   "outputs": [
    {
     "name": "stdout",
     "output_type": "stream",
     "text": [
      "0xabc23\n",
      "0o2536043\n",
      "703523\n"
     ]
    }
   ],
   "source": [
    "h=0xabc23\n",
    "print(hex(h))\n",
    "print(oct(h))\n",
    "print(h)"
   ]
  },
  {
   "cell_type": "markdown",
   "id": "cf240270",
   "metadata": {},
   "source": [
    "# character and string literal"
   ]
  },
  {
   "cell_type": "code",
   "execution_count": 10,
   "id": "450a6464",
   "metadata": {},
   "outputs": [
    {
     "name": "stdout",
     "output_type": "stream",
     "text": [
      "a  aaa\n"
     ]
    }
   ],
   "source": [
    "a='a'\n",
    "b='aaa'\n",
    "print(a,b,sep='  ')"
   ]
  },
  {
   "cell_type": "markdown",
   "id": "d0c54fb1",
   "metadata": {},
   "source": [
    "# Special literal"
   ]
  },
  {
   "cell_type": "markdown",
   "id": "de688c9a",
   "metadata": {},
   "source": [
    "a=None\n",
    "print(a)"
   ]
  },
  {
   "cell_type": "markdown",
   "id": "d19a338e",
   "metadata": {},
   "source": [
    "# Boolean Literal"
   ]
  },
  {
   "cell_type": "code",
   "execution_count": 11,
   "id": "62016b7b",
   "metadata": {},
   "outputs": [
    {
     "name": "stdout",
     "output_type": "stream",
     "text": [
      "True False\n",
      "True False\n"
     ]
    }
   ],
   "source": [
    "a=True\n",
    "b=False\n",
    "print(a,b)\n",
    "c=bool(1)\n",
    "d=bool(0)\n",
    "print(c,d)"
   ]
  },
  {
   "cell_type": "markdown",
   "id": "69acbf9f",
   "metadata": {},
   "source": [
    "# Variable "
   ]
  },
  {
   "cell_type": "code",
   "execution_count": 12,
   "id": "d21aa5fd",
   "metadata": {},
   "outputs": [
    {
     "name": "stdout",
     "output_type": "stream",
     "text": [
      "10\n",
      "(10, 20, 30)\n",
      "1 2\n",
      "1 2 4\n"
     ]
    }
   ],
   "source": [
    "a=10\n",
    "print(a)\n",
    "a=10,20,30\n",
    "print(a)\n",
    "a,b=1,2\n",
    "print(a,b)\n",
    "a,b,c=1,2,4\n",
    "print(a,b,c)"
   ]
  },
  {
   "cell_type": "code",
   "execution_count": 13,
   "id": "dd25e8f8",
   "metadata": {},
   "outputs": [
    {
     "data": {
      "text/plain": [
       "int"
      ]
     },
     "execution_count": 13,
     "metadata": {},
     "output_type": "execute_result"
    }
   ],
   "source": [
    "a=10\n",
    "type(a)"
   ]
  },
  {
   "cell_type": "code",
   "execution_count": 14,
   "id": "ef12b7af",
   "metadata": {},
   "outputs": [
    {
     "name": "stdout",
     "output_type": "stream",
     "text": [
      "10\n",
      "10.0\n",
      "10.4\n",
      "10\n",
      "10\n",
      "10.0\n"
     ]
    }
   ],
   "source": [
    "#type conversion\n",
    "#int,float,string\n",
    "a=10\n",
    "print(str(a))\n",
    "print(float(a))\n",
    "a=10.4\n",
    "print(str(a))\n",
    "print(int(a))\n",
    "a='10'\n",
    "print(int(a))\n",
    "print(float(a))"
   ]
  },
  {
   "cell_type": "markdown",
   "id": "af44c944",
   "metadata": {},
   "source": [
    "# Operators\n"
   ]
  },
  {
   "cell_type": "code",
   "execution_count": 15,
   "id": "7214f1ae",
   "metadata": {},
   "outputs": [
    {
     "name": "stdout",
     "output_type": "stream",
     "text": [
      "17\n",
      "11\n",
      "4.666666666666667\n",
      "4\n",
      "2\n",
      "2744\n",
      "42\n"
     ]
    }
   ],
   "source": [
    "#arithmatic operators \n",
    "# +,-,/,//,%\n",
    "a=14\n",
    "b=3\n",
    "print(a+b)\n",
    "print(a-b)\n",
    "print(a/b)\n",
    "print(a//b)\n",
    "print(a%b)\n",
    "print(a**b)\n",
    "print(a*b)"
   ]
  },
  {
   "cell_type": "code",
   "execution_count": 16,
   "id": "dfdd74a6",
   "metadata": {},
   "outputs": [
    {
     "name": "stdout",
     "output_type": "stream",
     "text": [
      "3\n",
      "2\n"
     ]
    }
   ],
   "source": [
    "import math\n",
    "print(math.ceil(2.2))\n",
    "print(math.floor(2.9))\n"
   ]
  },
  {
   "cell_type": "code",
   "execution_count": 17,
   "id": "dc16a12f",
   "metadata": {},
   "outputs": [
    {
     "name": "stdout",
     "output_type": "stream",
     "text": [
      "True\n",
      "False\n",
      "True\n",
      "False\n",
      "True\n"
     ]
    }
   ],
   "source": [
    "\n",
    "#Relational operators\n",
    "print(a>b)\n",
    "print(a<b)\n",
    "print(a>=b)\n",
    "print(a==b)\n",
    "print(a!=b)"
   ]
  },
  {
   "cell_type": "code",
   "execution_count": 18,
   "id": "f0bd883a",
   "metadata": {},
   "outputs": [
    {
     "name": "stdout",
     "output_type": "stream",
     "text": [
      "1\n",
      "0\n",
      "False\n",
      "0\n"
     ]
    }
   ],
   "source": [
    "#logical operators\n",
    "#and -->true if  both true \n",
    "print(1 and 1)\n",
    "print(1 and 0)\n",
    "print(not 1)\n",
    "print(1 ^ 1)"
   ]
  },
  {
   "cell_type": "code",
   "execution_count": 19,
   "id": "6035f14f",
   "metadata": {},
   "outputs": [
    {
     "name": "stdout",
     "output_type": "stream",
     "text": [
      "1\n",
      "1\n",
      "3\n"
     ]
    }
   ],
   "source": [
    "#bit wise operators\n",
    "# & | >> << ^ \n",
    "print(1 & 1)\n",
    "print(1 | 1)\n",
    "print(12>>2)\n"
   ]
  },
  {
   "cell_type": "code",
   "execution_count": 20,
   "id": "b4568717",
   "metadata": {},
   "outputs": [],
   "source": [
    "#assignment operator\n",
    "# = , += ,-=,*= ,/=\n"
   ]
  },
  {
   "cell_type": "code",
   "execution_count": 21,
   "id": "421a740e",
   "metadata": {},
   "outputs": [
    {
     "name": "stdout",
     "output_type": "stream",
     "text": [
      "True\n",
      "False\n",
      "True\n",
      "False\n"
     ]
    }
   ],
   "source": [
    "#special operators\n",
    "#identity -> is , is not\n",
    "#membership -> in , not in\n",
    "a=10\n",
    "b=10\n",
    "print(a is b)\n",
    "print(a is not b)\n",
    "a=[1,2,34]\n",
    "print(1 in a)\n",
    "print(1 not in a)"
   ]
  },
  {
   "cell_type": "code",
   "execution_count": 22,
   "id": "de67878c",
   "metadata": {},
   "outputs": [
    {
     "name": "stdout",
     "output_type": "stream",
     "text": [
      "\n"
     ]
    }
   ],
   "source": [
    "#python input and output\n",
    "print()\n"
   ]
  },
  {
   "cell_type": "code",
   "execution_count": null,
   "id": "630fac13",
   "metadata": {},
   "outputs": [],
   "source": [
    "a=input(\"enter a value\")\n",
    "print(type(a))"
   ]
  },
  {
   "cell_type": "code",
   "execution_count": null,
   "id": "cd18c843",
   "metadata": {},
   "outputs": [],
   "source": [
    "a=int(input(\"enter \"))\n",
    "print(a)"
   ]
  },
  {
   "cell_type": "code",
   "execution_count": null,
   "id": "a74fb6a5",
   "metadata": {},
   "outputs": [],
   "source": [
    "a=float(input(\"enter \"))\n",
    "print(a)"
   ]
  },
  {
   "cell_type": "code",
   "execution_count": null,
   "id": "03e3266b",
   "metadata": {},
   "outputs": [],
   "source": [
    "print(\"a \\\"\\\" b \")"
   ]
  },
  {
   "cell_type": "code",
   "execution_count": null,
   "id": "6ba2c634",
   "metadata": {},
   "outputs": [],
   "source": [
    "l=list(input(\"enter\"))\n",
    "print(l)"
   ]
  },
  {
   "cell_type": "code",
   "execution_count": null,
   "id": "400785fe",
   "metadata": {},
   "outputs": [],
   "source": [
    "import random\n",
    "print(random.randrange(1,10))"
   ]
  },
  {
   "cell_type": "code",
   "execution_count": null,
   "id": "eee322e5",
   "metadata": {},
   "outputs": [],
   "source": [
    "print(\"a is : %d\"%(10))\n",
    "print(\"a is : %d , %f, %s\"%(10,20.2,\"sim\"))\n",
    "print(\"a is : {1} {0} {2} \".format(10,20.2,\"sim\"))"
   ]
  },
  {
   "cell_type": "code",
   "execution_count": null,
   "id": "375d10b4",
   "metadata": {},
   "outputs": [],
   "source": [
    "#list\n",
    "a=[1,2,3]\n",
    "print(a)\n",
    "c=1,2,3,4\n",
    "b=list(c)\n",
    "print(b)"
   ]
  },
  {
   "cell_type": "markdown",
   "id": "67da14a2",
   "metadata": {},
   "source": [
    "#methods\n"
   ]
  },
  {
   "cell_type": "code",
   "execution_count": null,
   "id": "4c7d3584",
   "metadata": {},
   "outputs": [],
   "source": [
    "#append\n",
    "a=[1,2,3,4]\n",
    "b=[4,6,7,8]\n",
    "print(a+b)\n",
    "a.append(b)\n",
    "print(a)"
   ]
  },
  {
   "cell_type": "code",
   "execution_count": null,
   "id": "65b46ac3",
   "metadata": {},
   "outputs": [],
   "source": [
    "a.append(1)\n",
    "print(a)"
   ]
  },
  {
   "cell_type": "code",
   "execution_count": null,
   "id": "1da801bc",
   "metadata": {},
   "outputs": [],
   "source": [
    "a=[1,2,3,4]\n",
    "b=[4,6,7,8]\n",
    "print(a+b)\n",
    "a.extend(b)\n",
    "print(a)"
   ]
  },
  {
   "cell_type": "code",
   "execution_count": null,
   "id": "88151379",
   "metadata": {},
   "outputs": [],
   "source": [
    "#inserting\n",
    "print(a)\n",
    "a.insert(0,(0,7))\n",
    "print(a)\n",
    "\n"
   ]
  },
  {
   "cell_type": "code",
   "execution_count": null,
   "id": "86d9bc25",
   "metadata": {},
   "outputs": [],
   "source": [
    "#revoving\n",
    "print(a)\n",
    "a.pop(0)\n",
    "print(a)\n",
    "a.remove(4)\n",
    "print(a)"
   ]
  },
  {
   "cell_type": "code",
   "execution_count": null,
   "id": "54c34f88",
   "metadata": {},
   "outputs": [],
   "source": [
    "a=[1,2,3,1]\n",
    "a.remove(1)\n",
    "print(a)"
   ]
  },
  {
   "cell_type": "code",
   "execution_count": null,
   "id": "4da5a245",
   "metadata": {},
   "outputs": [],
   "source": [
    "b=a.copy()\n",
    "print(b)"
   ]
  },
  {
   "cell_type": "code",
   "execution_count": null,
   "id": "7407f69b",
   "metadata": {},
   "outputs": [],
   "source": [
    "list=[]\n",
    "n=int(input(\"enter elements\"))\n",
    "for i in range(0,n):\n",
    "    ele=int(input(\"enter {}\".format(i)))\n",
    "    list.append(ele)\n",
    "print(list)"
   ]
  },
  {
   "cell_type": "code",
   "execution_count": null,
   "id": "5844f292",
   "metadata": {},
   "outputs": [],
   "source": [
    "#count\n",
    "a=[1,1,2,3,4,5]\n",
    "print(a.count(1))"
   ]
  },
  {
   "cell_type": "code",
   "execution_count": null,
   "id": "1b12a488",
   "metadata": {},
   "outputs": [],
   "source": [
    "a=[10,23,39,44]\n",
    "\n",
    "print(a.reverse())\n",
    "print(a)"
   ]
  },
  {
   "cell_type": "code",
   "execution_count": null,
   "id": "6c728ede",
   "metadata": {},
   "outputs": [],
   "source": [
    "print(a)\n",
    "a.sort(reverse=True)\n",
    "print(a)"
   ]
  },
  {
   "cell_type": "code",
   "execution_count": null,
   "id": "ee6456d0",
   "metadata": {},
   "outputs": [],
   "source": [
    "a.index(10)"
   ]
  },
  {
   "cell_type": "code",
   "execution_count": null,
   "id": "45741b79",
   "metadata": {},
   "outputs": [],
   "source": [
    "a.clear()\n",
    "print(a)"
   ]
  },
  {
   "cell_type": "code",
   "execution_count": null,
   "id": "d93c1ba9",
   "metadata": {},
   "outputs": [],
   "source": [
    "a=[1,2]\n",
    "del a[:]\n",
    "print(a)"
   ]
  },
  {
   "cell_type": "markdown",
   "id": "05e74de8",
   "metadata": {},
   "source": [
    "tuple"
   ]
  },
  {
   "cell_type": "code",
   "execution_count": null,
   "id": "cea811f5",
   "metadata": {},
   "outputs": [],
   "source": [
    "t=1,2,'fil'\n",
    "print(t)"
   ]
  },
  {
   "cell_type": "code",
   "execution_count": null,
   "id": "d7542901",
   "metadata": {},
   "outputs": [],
   "source": [
    "t.index(1)"
   ]
  },
  {
   "cell_type": "code",
   "execution_count": null,
   "id": "9bbe4e82",
   "metadata": {},
   "outputs": [],
   "source": [
    "t.count(1)"
   ]
  },
  {
   "cell_type": "code",
   "execution_count": null,
   "id": "89d06722",
   "metadata": {},
   "outputs": [],
   "source": [
    "a=[1,2,3]\n",
    "b=tuple(a)\n",
    "print(b)"
   ]
  },
  {
   "cell_type": "code",
   "execution_count": null,
   "id": "1515c928",
   "metadata": {},
   "outputs": [],
   "source": [
    "\n",
    "a=tuple()\n",
    "print(a)\n",
    "a=set()\n",
    "print(a)\n"
   ]
  },
  {
   "cell_type": "code",
   "execution_count": null,
   "id": "6cac3eca",
   "metadata": {},
   "outputs": [],
   "source": [
    "a={1,2,3,1}\n",
    "a.add(1)\n",
    "print(a)\n",
    "print(a)"
   ]
  },
  {
   "cell_type": "code",
   "execution_count": null,
   "id": "7cdc6fcb",
   "metadata": {},
   "outputs": [],
   "source": [
    "a={1,2,3}\n",
    "print(a)\n",
    "b=['dim',5,57]\n",
    "a.update(b)\n",
    "print(a)\n"
   ]
  },
  {
   "cell_type": "code",
   "execution_count": null,
   "id": "12c9e336",
   "metadata": {},
   "outputs": [],
   "source": [
    "print(a)"
   ]
  },
  {
   "cell_type": "code",
   "execution_count": null,
   "id": "f05209f1",
   "metadata": {},
   "outputs": [],
   "source": [
    "a={1,2,3,4}\n",
    "print(a.remove(3))\n",
    "print(a)"
   ]
  },
  {
   "cell_type": "code",
   "execution_count": null,
   "id": "b1ba1cf2",
   "metadata": {},
   "outputs": [],
   "source": [
    "a=['ram','simhadri']\n",
    "b=enumerate(a)\n",
    "print(b)"
   ]
  },
  {
   "cell_type": "code",
   "execution_count": null,
   "id": "cb102e1e",
   "metadata": {},
   "outputs": [],
   "source": [
    "#any and allT\n",
    "print(any([True,False]))\n",
    "print(any([False,False]))\n",
    "print(any([True,True]))\n"
   ]
  },
  {
   "cell_type": "code",
   "execution_count": null,
   "id": "0b40bdb3",
   "metadata": {},
   "outputs": [],
   "source": [
    "a={1,4,6,8}\n",
    "b={1,5,3,9}\n",
    "print(a.union(b))\n",
    "print(a.intersection(b))\n",
    "print(a.difference(b))\n",
    "print(a^b)\n",
    "print(a==b)"
   ]
  },
  {
   "cell_type": "code",
   "execution_count": null,
   "id": "9f0ee68f",
   "metadata": {},
   "outputs": [],
   "source": [
    "a={1,2}\n",
    "b={5,6}\n"
   ]
  },
  {
   "cell_type": "code",
   "execution_count": null,
   "id": "31ea2650",
   "metadata": {},
   "outputs": [],
   "source": [
    "def factorial(n):\n",
    "    if n==1:\n",
    "        return 1\n",
    "    else :\n",
    "        return n*factorial(n-1)\n",
    "fact=factorial(4)\n",
    "print(fact)"
   ]
  },
  {
   "cell_type": "code",
   "execution_count": null,
   "id": "6c2231b4",
   "metadata": {},
   "outputs": [],
   "source": [
    "add=lambda a,b:print(a*b)\n",
    "add(2,4)"
   ]
  },
  {
   "cell_type": "code",
   "execution_count": null,
   "id": "bf6977e9",
   "metadata": {},
   "outputs": [],
   "source": [
    "#scope of a variable\n",
    "a=10\n",
    "def fun():\n",
    "    a=15\n",
    "    print(\"in \" ,a)\n",
    "fun()\n",
    "print(a)"
   ]
  },
  {
   "cell_type": "code",
   "execution_count": null,
   "id": "ea88e23b",
   "metadata": {},
   "outputs": [],
   "source": [
    "\n",
    "a=10\n",
    "def fun():\n",
    "    global a\n",
    "    a=15\n",
    "    print(\"in \" ,a)\n",
    "fun()\n",
    "print(a)"
   ]
  },
  {
   "cell_type": "code",
   "execution_count": null,
   "id": "df003a96",
   "metadata": {},
   "outputs": [],
   "source": [
    "dir(locals()['__builtins__'])"
   ]
  },
  {
   "cell_type": "markdown",
   "id": "879a5992",
   "metadata": {},
   "source": [
    "# Exception "
   ]
  },
  {
   "cell_type": "code",
   "execution_count": null,
   "id": "920e4dce",
   "metadata": {},
   "outputs": [],
   "source": [
    "try:\n",
    "    a=int(input(\"enter \"))\n",
    "    b=int(input(\"enter \"))\n",
    "    c=a/b\n",
    "except Exception as e:\n",
    "    print(e)"
   ]
  },
  {
   "cell_type": "code",
   "execution_count": null,
   "id": "3b94278c",
   "metadata": {},
   "outputs": [],
   "source": [
    "#try with multiple except\n",
    "try:\n",
    "    a=[1,2,3]\n",
    "    print(a[6])\n",
    "except ZeroDivisionError:\n",
    "    print(\"division by zeo\")\n",
    "except IndexError:\n",
    "    print(\"index out of bounce\")\n",
    "\n",
    "except Exception as e:\n",
    "    print(e)"
   ]
  },
  {
   "cell_type": "code",
   "execution_count": null,
   "id": "401371b1",
   "metadata": {},
   "outputs": [],
   "source": [
    "#try with else\n",
    "try:\n",
    "    a=[1,2,3]\n",
    "    a[6]\n",
    "except ZeroDivisionError:\n",
    "    print(\"division by zeo\")\n",
    "except IndexError:\n",
    "    print(\"index out of bounce\")\n",
    "\n",
    "except Exception as e:\n",
    "    print(e)\n"
   ]
  },
  {
   "cell_type": "code",
   "execution_count": null,
   "id": "cacabcd8",
   "metadata": {},
   "outputs": [],
   "source": [
    "try:\n",
    "    a=[1,2,3]\n",
    "    a[1]\n",
    "except ZeroDivisionError:\n",
    "    print(\"division by zeo\")\n",
    "except IndexError:\n",
    "    print(\"index out of bounce\")\n",
    "\n",
    "except Exception as e:\n",
    "    print(e)\n",
    "else:\n",
    "    print(a[1])"
   ]
  },
  {
   "cell_type": "code",
   "execution_count": null,
   "id": "59ccd7fd",
   "metadata": {},
   "outputs": [],
   "source": [
    "#user defined exception\n",
    "class InavlidAge(Exception):\n",
    "    pass\n",
    "age=int(input(\"enter age\"))\n",
    "try:\n",
    "    if age<18:\n",
    "        raise InavlidAge\n",
    "    else:\n",
    "        print(\"eligible to vote\")\n",
    "        \n",
    "except exception InavlidAge\n",
    "    "
   ]
  },
  {
   "cell_type": "code",
   "execution_count": null,
   "id": "7f13067b",
   "metadata": {},
   "outputs": [],
   "source": []
  }
 ],
 "metadata": {
  "kernelspec": {
   "display_name": "Python 3 (ipykernel)",
   "language": "python",
   "name": "python3"
  },
  "language_info": {
   "codemirror_mode": {
    "name": "ipython",
    "version": 3
   },
   "file_extension": ".py",
   "mimetype": "text/x-python",
   "name": "python",
   "nbconvert_exporter": "python",
   "pygments_lexer": "ipython3",
   "version": "3.9.12"
  }
 },
 "nbformat": 4,
 "nbformat_minor": 5
}
