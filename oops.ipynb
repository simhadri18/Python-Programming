{
 "cells": [
  {
   "cell_type": "markdown",
   "id": "ef0e6718",
   "metadata": {},
   "source": [
    "# oops"
   ]
  },
  {
   "cell_type": "code",
   "execution_count": 1,
   "id": "a57d283b",
   "metadata": {},
   "outputs": [],
   "source": [
    "# class -- it is a blueprint of object\n",
    "# object -- it is a instance of class \n",
    "# class -attributes and Methods\n",
    "#attributes -> properties\n",
    "#methods -> behaviour\n"
   ]
  },
  {
   "cell_type": "code",
   "execution_count": 2,
   "id": "ee5d3bf1",
   "metadata": {},
   "outputs": [
    {
     "ename": "TypeError",
     "evalue": "'str' object is not callable",
     "output_type": "error",
     "traceback": [
      "\u001b[1;31m---------------------------------------------------------------------------\u001b[0m",
      "\u001b[1;31mTypeError\u001b[0m                                 Traceback (most recent call last)",
      "Input \u001b[1;32mIn [2]\u001b[0m, in \u001b[0;36m<cell line: 5>\u001b[1;34m()\u001b[0m\n\u001b[0;32m      2\u001b[0m     name\u001b[38;5;241m=\u001b[39m\u001b[38;5;124m\"\u001b[39m\u001b[38;5;124msimhadri\u001b[39m\u001b[38;5;124m\"\u001b[39m\n\u001b[0;32m      4\u001b[0m o1\u001b[38;5;241m=\u001b[39mperson()\n\u001b[1;32m----> 5\u001b[0m \u001b[38;5;28mprint\u001b[39m(\u001b[43mo1\u001b[49m\u001b[38;5;241;43m.\u001b[39;49m\u001b[43mname\u001b[49m\u001b[43m(\u001b[49m\u001b[43m)\u001b[49m)\n",
      "\u001b[1;31mTypeError\u001b[0m: 'str' object is not callable"
     ]
    }
   ],
   "source": [
    "class person:\n",
    "    name=\"simhadri\"\n",
    "    \n",
    "o1=person()\n",
    "print(o1.name())"
   ]
  },
  {
   "cell_type": "code",
   "execution_count": null,
   "id": "ed0f73e8",
   "metadata": {},
   "outputs": [],
   "source": [
    "class college:\n",
    "    def student(self):            # self is a instance of class\n",
    "        print(\"hai nana\")          # function inside class is method\n",
    "obj1=college()\n",
    "obj1.student()\n",
    "college.student(obj1)\n",
    "obj2=college()\n",
    "obj2.student()"
   ]
  },
  {
   "cell_type": "markdown",
   "id": "a63bdc22",
   "metadata": {},
   "source": [
    " #__init__ --> it is used to initialize the attributes\n"
   ]
  },
  {
   "cell_type": "code",
   "execution_count": null,
   "id": "175bedbf",
   "metadata": {},
   "outputs": [],
   "source": [
    "class college():\n",
    "    def __init__(self):\n",
    "        self.name=\"simhadri\"\n",
    "        self.age=20\n",
    "    def show(self):\n",
    "        print(self.name,self.age)\n",
    "\n",
    "obj1=college()\n",
    "obj1.show()\n",
    "        "
   ]
  },
  {
   "cell_type": "code",
   "execution_count": null,
   "id": "9a2510e3",
   "metadata": {},
   "outputs": [],
   "source": [
    "class college():\n",
    "    def __init__(self,name,age):\n",
    "        self.name=name\n",
    "        self.age=age\n",
    "    def show(self):\n",
    "        print(self.name,self.age)\n",
    "\n",
    "obj1=college(\"simhadri\",21)\n",
    "obj1.show()\n",
    "        "
   ]
  },
  {
   "cell_type": "markdown",
   "id": "4bb130ce",
   "metadata": {},
   "source": [
    " #comapre of two objects"
   ]
  },
  {
   "cell_type": "code",
   "execution_count": null,
   "id": "4793f433",
   "metadata": {},
   "outputs": [],
   "source": [
    "class college():\n",
    "    def __init__(self,name,age):\n",
    "        self.name=name\n",
    "        self.age=age\n",
    "    def compare(self,other):\n",
    "        if self.age==other.age:\n",
    "            return True\n",
    "        else:\n",
    "            return False\n",
    "\n",
    "obj1=college(\"simhadri\",21)\n",
    "obj2=college(\"ram\",21)\n",
    "if obj1.compare(obj2):\n",
    "    print(\"same\")\n",
    "else:\n",
    "    print(\"not same\")\n"
   ]
  },
  {
   "cell_type": "markdown",
   "id": "0bbbe4de",
   "metadata": {},
   "source": [
    "# inheritance"
   ]
  },
  {
   "cell_type": "code",
   "execution_count": null,
   "id": "ec4814f9",
   "metadata": {},
   "outputs": [],
   "source": [
    "class human:\n",
    "    pass\n",
    "class men(human):\n",
    "    pass"
   ]
  },
  {
   "cell_type": "code",
   "execution_count": null,
   "id": "7fca704b",
   "metadata": {},
   "outputs": [],
   "source": [
    "#why we impliment this\n",
    "class human:\n",
    "    def work(self):\n",
    "        print(\"i can work\")\n",
    "    def dance(self):\n",
    "        print(\"i can dance\")\n",
    "        \n",
    "class men:\n",
    "    def work(self):\n",
    "        print(\"i can work\")\n",
    "    def dance(self):\n",
    "        print(\"i can dance\")\n",
    "class wommen:\n",
    "    def work(self):\n",
    "        print(\"i can work\")\n",
    "    def dance(self):\n",
    "        print(\"i can dance\")\n",
    "\n",
    "\n",
    "    \n",
    "        "
   ]
  },
  {
   "cell_type": "code",
   "execution_count": null,
   "id": "129eab9f",
   "metadata": {},
   "outputs": [],
   "source": [
    "#instead of writing this much functions which are same as parent\n",
    "class human:\n",
    "    def work(self):\n",
    "        print(\"i can work\")\n",
    "    def dance(self):\n",
    "        print(\"i can dance\")\n",
    "human1=human()\n",
    "\n",
    "        \n",
    "class men(human):\n",
    "    pass\n",
    "class wommen(human):\n",
    "    pass\n",
    "\n",
    "men1=men()\n",
    "\n",
    "print(men1.work())\n",
    "print(human1.work())\n",
    "    "
   ]
  },
  {
   "cell_type": "code",
   "execution_count": null,
   "id": "b38331cb",
   "metadata": {},
   "outputs": [],
   "source": [
    "# Method overriding\n",
    "class human:\n",
    "    def work(self):\n",
    "        print(\"i can work\")\n",
    "    def dance(self):\n",
    "        print(\"i can dance\")\n",
    "human1=human()\n",
    "\n",
    "        \n",
    "class men(human):\n",
    "    def hand(self):\n",
    "        print(\"he can masturbeat\")\n",
    "    def work(self):\n",
    "        print(\"hecan work and dance\")\n",
    "class wommen(human):\n",
    "    def fingure(self):\n",
    "        print(\"he can mastubeat\")\n",
    "\n",
    "men1=men()\n",
    "\n",
    "print(men1.work())\n",
    "\n",
    "\n",
    "    "
   ]
  },
  {
   "cell_type": "code",
   "execution_count": null,
   "id": "a73f1d3d",
   "metadata": {},
   "outputs": [],
   "source": [
    "#using super method\n",
    "class human:\n",
    "    def work(self):\n",
    "        print(\"i can work\")\n",
    "    def dance(self):\n",
    "        print(\"i can dance\")\n",
    "human1=human()\n",
    "\n",
    "        \n",
    "class men(human):\n",
    "    def hand(self):\n",
    "        print(\"he can masturbeat\")\n",
    "    def work(self):\n",
    "        super().work()\n",
    "        print(\"he can work and dance\")\n",
    "men1=men()\n",
    "print(men1.work())\n"
   ]
  },
  {
   "cell_type": "code",
   "execution_count": null,
   "id": "bec72502",
   "metadata": {},
   "outputs": [],
   "source": [
    "#normal __init__()\n",
    "class human:\n",
    "    def __init__(self):\n",
    "        self.eyes=2\n",
    "    def work(self):\n",
    "        print(\"i can work\")\n",
    "    def dance(self):\n",
    "        print(\"i can dance\")\n",
    "human1=human()\n",
    "\n",
    "        \n",
    "class men(human):\n",
    "    def hand(self):\n",
    "        print(\"he can masturbeat\")\n",
    "    def work(self):\n",
    "        print(\"hecan work and dance\")\n",
    "\n",
    "\n",
    "men1=men()\n",
    "\n",
    "print(men1.eyes)"
   ]
  },
  {
   "cell_type": "code",
   "execution_count": null,
   "id": "d4db711b",
   "metadata": {},
   "outputs": [],
   "source": [
    "#super()  normal __init__()\n",
    "class human:\n",
    "    def __init__(self):\n",
    "        self.eyes=2\n",
    "    def work(self):\n",
    "        print(\"i can work\")\n",
    "    def dance(self):\n",
    "        print(\"i can dance\")\n",
    "human1=human()\n",
    "\n",
    "        \n",
    "class men(human):\n",
    "    def __init__(self):\n",
    "        self.eyes=1\n",
    "        super().__init__()\n",
    "        \n",
    "    def hand(self):\n",
    "        print(\"he can masturbeat\")\n",
    "    def work(self):\n",
    "        print(\"hecan work and dance\")\n",
    "\n",
    "\n",
    "men1=men()\n",
    "\n",
    "print(men1.eyes)"
   ]
  },
  {
   "cell_type": "markdown",
   "id": "b14be363",
   "metadata": {},
   "source": [
    "# multi Level Inheritance"
   ]
  },
  {
   "cell_type": "code",
   "execution_count": null,
   "id": "d38f9f74",
   "metadata": {},
   "outputs": [],
   "source": [
    "class mom:\n",
    "    pass\n",
    "class dad:\n",
    "    pass\n",
    "class baby(mom,dad):\n",
    "    pass"
   ]
  },
  {
   "cell_type": "code",
   "execution_count": null,
   "id": "74883441",
   "metadata": {},
   "outputs": [],
   "source": [
    "class mom:\n",
    "    def mwork(self):\n",
    "        print(\"housing\")\n",
    "    \n",
    "class dad:\n",
    "    def dwork(self):\n",
    "        print(\"farming\")\n",
    "class baby(mom,dad):\n",
    "    def bwork(self):\n",
    "        print(\"crying\")\n",
    "\n",
    "baby1=baby()\n",
    "print(baby1.mwork())\n",
    "print(baby1.dwork())\n",
    "print(baby1.bwork())\n"
   ]
  },
  {
   "cell_type": "code",
   "execution_count": null,
   "id": "c2aa0418",
   "metadata": {},
   "outputs": [],
   "source": [
    "#method overriding\n",
    "class mom:\n",
    "    def work(self):\n",
    "        print(\"housing\")\n",
    "    \n",
    "class dad:\n",
    "    def work(self):\n",
    "        print(\"farming\")\n",
    "class baby(mom,dad):\n",
    "    def work(self):\n",
    "        print(\"crying\")\n",
    "\n",
    "baby1=baby()\n",
    "print(baby1.work())\n"
   ]
  },
  {
   "cell_type": "code",
   "execution_count": null,
   "id": "e643ea2c",
   "metadata": {},
   "outputs": [],
   "source": [
    "# if we want the work of mom and dad\n",
    "class mom:\n",
    "    def work(self):\n",
    "        print(\"housing\")\n",
    "    \n",
    "class dad:\n",
    "    def work(self):\n",
    "        print(\"farming\")\n",
    "class baby(mom,dad):\n",
    "    def work(self):\n",
    "        print(\"crying\")\n",
    "\n",
    "baby1=baby()\n",
    "print(mom.work(baby))\n",
    "print(dad.work(baby))\n",
    "print(baby1.work())\n",
    "\n",
    "\n"
   ]
  },
  {
   "cell_type": "code",
   "execution_count": null,
   "id": "a91f2565",
   "metadata": {},
   "outputs": [],
   "source": [
    "# __init__\n",
    "class mom:\n",
    "    def __init__(self,surname):\n",
    "        self.name=\"mm\"\n",
    "        self.surname=surname\n",
    "    def work(self):\n",
    "        print(\"housing\")\n",
    "    \n",
    "class dad:\n",
    "    def __init__(self,main):\n",
    "        self.name=\"dd\"\n",
    "        self.main=main\n",
    "    def work(self):\n",
    "        print(\"farming\")\n",
    "class baby(mom,dad):\n",
    "    def __init__(self,surname,main,nn):\n",
    "        self.nn=nn\n",
    "        dad.__init__(self,main)\n",
    "        mom.__init__(self,surname)\n",
    "\n",
    "        \n",
    "    def work(self):\n",
    "        print(\"crying\")\n",
    "\n",
    "baby1=baby(\"bhavani\",\"simhadri\",\"simbha\")\n",
    "print(baby1.main)"
   ]
  },
  {
   "cell_type": "markdown",
   "id": "292d3673",
   "metadata": {},
   "source": [
    "# Multi Level Inheritance"
   ]
  },
  {
   "cell_type": "code",
   "execution_count": null,
   "id": "440c6236",
   "metadata": {},
   "outputs": [],
   "source": [
    "class grandfather:\n",
    "    pass\n",
    "class father(grandfather):\n",
    "    pass\n",
    "class me(father):\n",
    "    pass\n",
    "\n"
   ]
  },
  {
   "cell_type": "code",
   "execution_count": null,
   "id": "a4233491",
   "metadata": {},
   "outputs": [],
   "source": [
    "class grandfather:\n",
    "    def gwork(self):\n",
    "        print(\"farmer\")\n",
    "class father(grandfather):\n",
    "    def fwork(self):\n",
    "        print(\"bussiness\")\n",
    "class me(father):\n",
    "    pass\n",
    "\n",
    "me1=me()\n",
    "print(me1.gwork())\n",
    "print(me1.fwork())\n"
   ]
  },
  {
   "cell_type": "code",
   "execution_count": null,
   "id": "9984b68d",
   "metadata": {},
   "outputs": [],
   "source": [
    "#method overriding\n",
    "class grandfather:\n",
    "    def work(self):\n",
    "        print(\"farmer\")\n",
    "class father(grandfather):\n",
    "    def work(self):\n",
    "        print(\"bussiness\")\n",
    "class me(father):\n",
    "    def work(self):\n",
    "        print(\"study\")\n",
    "    \n",
    "\n",
    "me1=me()\n",
    "print(father.work(me1))\n",
    "\n",
    "\n"
   ]
  },
  {
   "cell_type": "code",
   "execution_count": null,
   "id": "1b8bc0ba",
   "metadata": {},
   "outputs": [],
   "source": [
    "#__init__\n",
    "class grandfather:\n",
    "    def __init__(self,gname):\n",
    "        self.gname=gname\n",
    "    def work(self):\n",
    "        print(\"farmer\")\n",
    "class father(grandfather):\n",
    "    def __init__(self,gname,fname):\n",
    "        grandfather.__init__(self,gname)\n",
    "        self.fname=fname\n",
    "        \n",
    "    def work(self):\n",
    "        print(\"bussiness\")\n",
    "class me(father):\n",
    "    def __init__(self,gname,fname,mname):\n",
    "        father.__init__(self,gname,fname)\n",
    "         \n",
    "        self.mname=mname\n",
    "    def work(self):\n",
    "        print(\"study\")\n",
    "    \n",
    "\n",
    "me1=me(\"ramanaiah\",\"chenchukrishnaiah\",\"simhadri\")\n",
    "print(me1.gname)"
   ]
  },
  {
   "cell_type": "markdown",
   "id": "666270e8",
   "metadata": {},
   "source": [
    "# polymorphism"
   ]
  },
  {
   "cell_type": "code",
   "execution_count": null,
   "id": "041e1e14",
   "metadata": {},
   "outputs": [],
   "source": [
    "\"\"\" polymorphism is a meaning is having many forms\n",
    "same function with different types , different in attributes and data types \"\"\"\n",
    "#static polymorphism -> \n",
    "print(1+2)\n",
    "print(\"1\"+\"2\")"
   ]
  },
  {
   "cell_type": "code",
   "execution_count": null,
   "id": "5a8768c5",
   "metadata": {},
   "outputs": [],
   "source": [
    "#dynamic polymorphism\n",
    "'''default arguments  '''\n",
    "def fun(a,b,c=0):\n",
    "    return a+b+c\n",
    "print(fun(1,2,3))\n",
    "print(fun(1,2))"
   ]
  },
  {
   "cell_type": "code",
   "execution_count": null,
   "id": "f67da4d0",
   "metadata": {
    "scrolled": true
   },
   "outputs": [],
   "source": [
    "'''varaible length arguments'''\n",
    "def fun(a,b,*c):\n",
    "    total=0\n",
    "    for i in c:\n",
    "        total=total+i\n",
    "    return a+b+total\n",
    "print(fun(1,2,3,4))\n"
   ]
  },
  {
   "cell_type": "code",
   "execution_count": null,
   "id": "399e19bc",
   "metadata": {},
   "outputs": [],
   "source": [
    "#Duck Typing \n",
    "'''the thing which is swim like a duck , quack like a duck and seems like a duck is a duck '''\n",
    "class Duck:\n",
    "    def sound(self):\n",
    "        print(\" quack quack\")\n",
    "    def swim(self):\n",
    "        print(\"duck swimming\")\n",
    "class Dog:\n",
    "    def sound(self):\n",
    "        print(\"bow bow\")\n",
    "    def swim(self):\n",
    "        print(\"dog swimming\")\n",
    "        \n",
    "def alll(obj):\n",
    "    obj.sound()\n",
    "    obj.swim()\n",
    "d1=Duck()\n",
    "d2=Dog()\n",
    "alll(d1)\n",
    "alll(d2)\n",
    "\n",
    "    "
   ]
  },
  {
   "cell_type": "code",
   "execution_count": null,
   "id": "6e600a40",
   "metadata": {},
   "outputs": [],
   "source": [
    "#Method overriding\n",
    "'''in in heritance clases having same function with also same arguments '''\n",
    "class A():\n",
    "    def work(self):\n",
    "        print(\"hiii A\")\n",
    "    def look(self):\n",
    "        print(\"hello\")\n",
    "class B(A):\n",
    "    def work(self):\n",
    "        super().work() # A.work(self)\n",
    "        print(\"hiii B\")\n",
    "    def look(self):\n",
    "        print(\"hello\")\n",
    "        \n",
    "b1=B()\n",
    "print(b1.work())\n",
    "#if we want the A class method\n",
    "print(A.work(b1))\n"
   ]
  },
  {
   "cell_type": "code",
   "execution_count": null,
   "id": "996fe1e7",
   "metadata": {},
   "outputs": [],
   "source": [
    "#Methodoverloading\n",
    "'''In method overloading same and different in arguments within one class'''\n",
    "class A:\n",
    "    def work(self):\n",
    "        print(hiii )\n",
    "    def work(self,x):\n",
    "        return x\n",
    "        \n",
    "        \n",
    "a1=A()\n",
    "print(a1.work())\n",
    "print(a1.work(1))"
   ]
  },
  {
   "cell_type": "code",
   "execution_count": null,
   "id": "42500cf8",
   "metadata": {},
   "outputs": [],
   "source": [
    "#method overloading is not support in python\n",
    "#we can done athor way\n",
    "'''varaible length arguments'''\n",
    "def fun(a,b,*c):\n",
    "    total=0\n",
    "    for i in c:\n",
    "        total=total+i\n",
    "    return a+b+total\n",
    "print(fun(1,2,3,4))\n"
   ]
  },
  {
   "cell_type": "code",
   "execution_count": null,
   "id": "b12986ba",
   "metadata": {},
   "outputs": [],
   "source": [
    "#operator overloading\n",
    "'''ex- bike with many passinger, one bike is carry multiple objects '''\n",
    "print(1+2)\n",
    "\n",
    "print(int.__add__(1,2))\n"
   ]
  },
  {
   "cell_type": "code",
   "execution_count": null,
   "id": "2b487a7e",
   "metadata": {},
   "outputs": [],
   "source": [
    "class aading():\n",
    "    def __init__(self,a):\n",
    "        self.a=a\n",
    "       \n",
    "    def __add__(self,other):\n",
    "        return self.a+other.a\n",
    "a1=aading(1)\n",
    "a2=aading(2)\n",
    "print(a1+a2)"
   ]
  },
  {
   "cell_type": "code",
   "execution_count": null,
   "id": "d3954f7f",
   "metadata": {},
   "outputs": [],
   "source": [
    "#complex numbers adding\n",
    "# (1+2j) + (2+3j) = 3+5j \n",
    "class com():\n",
    "    def __init__(self,a,b):\n",
    "        self.a=a\n",
    "        self.b=b\n",
    "       \n",
    "    def __add__(self,other):\n",
    "        return self.a+other.a , self.b+other.b\n",
    "a1=com(1,2)\n",
    "a2=com(2,3)\n",
    "print(a1+a2)\n"
   ]
  },
  {
   "cell_type": "markdown",
   "id": "08a0b8fa",
   "metadata": {},
   "source": [
    "# ABSTRACTION "
   ]
  },
  {
   "cell_type": "raw",
   "id": "1d3ad97f",
   "metadata": {},
   "source": [
    "#ABSTRACTION \n",
    "\"\"\"showing necessary deatails by hiding unnesessary deatails \n",
    "in python , by default it doesnt support abstraction . we can aceive it by using ABC Module\n",
    "restrict the user from creating object to the class\n",
    "it should have one abstract method\"\"\"\n",
    "#abstract method \n",
    "\"\"\" by using decorator we create abstract method by @abstract method , it is a blue print .\"\"\"   "
   ]
  },
  {
   "cell_type": "code",
   "execution_count": null,
   "id": "5ca18321",
   "metadata": {},
   "outputs": [],
   "source": [
    "from abc import ABC,abstractmethod\n",
    "class laptop(ABC):   # abstract class\n",
    "    @abstractmethod\n",
    "    def ram(self):\n",
    "        pass\n",
    "    \n",
    "    def product(self):     # concrete method\n",
    "        print(\"it is laptop\")\n",
    "\n",
    "l1=laptop()  # we cant create object to the abstarct class\n",
    "l1.ram()\n"
   ]
  },
  {
   "cell_type": "code",
   "execution_count": null,
   "id": "b94a2a11",
   "metadata": {},
   "outputs": [],
   "source": [
    "from abc import ABC,abstractmethod\n",
    "class laptop(ABC): # abstract class\n",
    "    @abstractmethod\n",
    "    def ram(self):\n",
    "        pass\n",
    "    def product(self):     # concrete method\n",
    "        print(\"it is laptop\")\n",
    "\n",
    "class hp(laptop):   # abstract class\n",
    "    \n",
    "    @abstractmethod\n",
    "    def ram(self):\n",
    "        print(\"4gb ram\")\n",
    "        \n",
    "    def internel(self):     # concrete method\n",
    "        print(\"10gb internal\")\n",
    "class mac(laptop):\n",
    "     def internel(self):     # concrete method\n",
    "        print(\"12gb internal\")\n",
    "        \n",
    "h1=hp()              # the subclasses should have the abstract class all abstract methods\n",
    "h1.ram()\n",
    "    "
   ]
  },
  {
   "cell_type": "code",
   "execution_count": null,
   "id": "ce8a6453",
   "metadata": {},
   "outputs": [],
   "source": [
    "#we can call the methods of the abstract class by inheriting with other classes\n",
    "from abc import ABC,abstractmethod\n",
    "class laptop(ABC): # abstract class\n",
    "    @abstractmethod\n",
    "    def ram(self):\n",
    "        pass\n",
    "    def product(self):     # concrete method\n",
    "        print(\"it is laptop\")\n",
    "\n",
    "class hp(laptop):   # abstract class\n",
    "    \n",
    "    def ram(self):\n",
    "        print(\"4gb ram\")\n",
    "        \n",
    "    def internel(self):     # concrete method\n",
    "        print(\"10gb internal\")\n",
    "class mac(laptop):\n",
    "    \n",
    "    def ram(self):\n",
    "        print(\"4gb ram\")\n",
    "    def internal(self):     # concrete method\n",
    "        print(\"12gb internal\")\n",
    "     \n",
    "                     \n",
    "h1=hp()\n",
    "h1.ram()\n",
    "h1.product()\n",
    "\n",
    "m1=mac()\n",
    "m1.ram()\n",
    "m1.internal()\n",
    "m1.product()\n",
    "\n",
    "\n",
    "    "
   ]
  },
  {
   "cell_type": "markdown",
   "id": "cb65f320",
   "metadata": {},
   "source": [
    "# access modifiers "
   ]
  },
  {
   "cell_type": "code",
   "execution_count": null,
   "id": "4b7a0548",
   "metadata": {},
   "outputs": [],
   "source": [
    "\"\"\"\n",
    "public \n",
    "private \n",
    "protected\n",
    "\"\"\"\n",
    "# public (public transport rtc) - anyone can use\n",
    "\"\"\" outside of the class also use\"\"\"\n",
    "\n",
    "#protected (family) - within the class and also the derived class also\n",
    "\n",
    "\n",
    "#private(i have a cycle , only it belongs to me) - within the class only\n",
    "\n",
    "\"\"\" class a:\n",
    "     attribute\n",
    "     methods\n",
    "     \"\"\"\n"
   ]
  },
  {
   "cell_type": "code",
   "execution_count": null,
   "id": "fbbda4b0",
   "metadata": {},
   "outputs": [],
   "source": [
    "#public - by default it is public\n",
    "class rtc():\n",
    "    def __init__(self,name):\n",
    "        self.name=name\n",
    "    def transport(self):\n",
    "        print(f\"{self.name} is available for everyone\" )\n",
    "        \n",
    "r1=rtc(\"apsrtc\")\n",
    "r1.transport()"
   ]
  },
  {
   "cell_type": "code",
   "execution_count": null,
   "id": "4dd26f53",
   "metadata": {},
   "outputs": [],
   "source": [
    "#protected - it is not cofirm that class is procted (the theif has to give the key back , it is resposible to programmer\n",
    "class dad():\n",
    "    def __init__(self,name,age):\n",
    "        self.name=name     # public attribute\n",
    "        self._age=age      # private attribute\n",
    "    def transport(self):\n",
    "        print(f\"{self.name} age is {self._age} is available for everyone\" )\n",
    "        \n",
    "class son(dad):\n",
    "    pass\n",
    "        \n",
    "s1=son(\"ram\",21)\n",
    "s1.transport()\n"
   ]
  },
  {
   "cell_type": "code",
   "execution_count": null,
   "id": "a5fb9e12",
   "metadata": {},
   "outputs": [],
   "source": [
    "class dad():\n",
    "    def __init__(self,name,age):\n",
    "        self.name=name     # public attribute\n",
    "        self._age=age      # private attribute\n",
    "    def transport(self):\n",
    "        print(f\"{self.name} age is {self._age} is available for everyone\" )\n",
    "        \n",
    "class son(dad):\n",
    "    pass\n",
    "s1=son(\"ram\",21)\n",
    "\n",
    "def theft():  #it is outside the class so we dont use the self parameter\n",
    "    print(s1.name)\n",
    "    print(s1._age)       #Even theft can also use \n",
    "    \n",
    "theft()\n",
    "   \n",
    "    "
   ]
  },
  {
   "cell_type": "code",
   "execution_count": null,
   "id": "477787e0",
   "metadata": {},
   "outputs": [],
   "source": [
    "#private\n",
    "class dad():\n",
    "    def __init__(self,name,age,sex):\n",
    "        self.name=name     # public attribute\n",
    "        self._age=age      #protected attribute\n",
    "        self.__sex=sex     # private attribute\n",
    "    def transport(self):\n",
    "        print(f\"{self.name} age is {self._age} is available for everyone\" )\n",
    "        \n",
    "class son(dad):\n",
    "    pass\n",
    "s1=son(\"ram\",21,\"male\")\n",
    "s1.transport()\n",
    "\n",
    "def theft():  #it is outside the class so we dont use the self parameter\n",
    "    print(s1.name)\n",
    "    print(s1._age)\n",
    "    print(s1.__sex)#Even theft can also use \n",
    "    \n",
    "theft()          \n",
    "\"\"\"we cant acess the private attribute\"\"\""
   ]
  },
  {
   "cell_type": "code",
   "execution_count": null,
   "id": "7c18af88",
   "metadata": {},
   "outputs": [],
   "source": [
    "# if we want to acess the attributes of private we use - name manling\n",
    "class dad():\n",
    "    def __init__(self,name,age,sex):\n",
    "        self.name=name     # public attribute\n",
    "        self._age=age      #protected attribute\n",
    "        self.__sex=sex     # private attribute\n",
    "    def __transport(self):\n",
    "        print(f\"{self.name} age is {self._age} and sex is {self.__sex} is available for everyone\" )\n",
    "    # by using public method\n",
    "    def publicmethod(self):\n",
    "        self.__transport()\n",
    "        \n",
    "        \n",
    "d1=dad(\"ram\",21,\"male\")\n",
    "print(d1.name)\n",
    "print(d1._age)\n",
    "print(d1._dad__sex)\n",
    "print(d1._dad__transport())# name tagling\n",
    "\n",
    "d1.publicmethod()\n"
   ]
  },
  {
   "cell_type": "markdown",
   "id": "4c5d7d10",
   "metadata": {},
   "source": [
    "# encapsulation "
   ]
  },
  {
   "cell_type": "markdown",
   "id": "6cd4faeb",
   "metadata": {},
   "source": [
    "\"\"\" encapsulation - the data and the methods are wrapped together into a single unit\n",
    "data hiding \"\"\""
   ]
  },
  {
   "cell_type": "code",
   "execution_count": null,
   "id": "695e6057",
   "metadata": {},
   "outputs": [],
   "source": [
    "by using access modifiers"
   ]
  },
  {
   "cell_type": "markdown",
   "id": "960c2c56",
   "metadata": {},
   "source": [
    "# Getter and Setter"
   ]
  },
  {
   "cell_type": "markdown",
   "id": "ca37a5c6",
   "metadata": {},
   "source": [
    "we can use getter and setter on private keys only"
   ]
  },
  {
   "cell_type": "code",
   "execution_count": null,
   "id": "1472fe28",
   "metadata": {},
   "outputs": [],
   "source": [
    "#getter \n",
    "class human():\n",
    "    def __init__(self):\n",
    "        self.name=\"sriram\"\n",
    "        self.__age=20\n",
    "    def get_age(self):\n",
    "        return self.__age\n",
    "    def set_age(self,num):\n",
    "        self.__age=num\n",
    "h=human()\n",
    "print(h.name)\n",
    "print(h.get_age())\n",
    "print(h.set_age(22))\n",
    "print(h.get_age())\n",
    "\n",
    "\n",
    "\n"
   ]
  }
 ],
 "metadata": {
  "kernelspec": {
   "display_name": "Python 3 (ipykernel)",
   "language": "python",
   "name": "python3"
  },
  "language_info": {
   "codemirror_mode": {
    "name": "ipython",
    "version": 3
   },
   "file_extension": ".py",
   "mimetype": "text/x-python",
   "name": "python",
   "nbconvert_exporter": "python",
   "pygments_lexer": "ipython3",
   "version": "3.9.12"
  }
 },
 "nbformat": 4,
 "nbformat_minor": 5
}
